{
 "cells": [
  {
   "cell_type": "markdown",
   "id": "d106bbd0-daba-4cdb-baaf-f8c80f409c0b",
   "metadata": {},
   "source": [
    "# Notebook For Radar Analysis"
   ]
  },
  {
   "cell_type": "code",
   "execution_count": 8,
   "id": "d9846f75-41b6-4da3-a5b0-fb7727a88247",
   "metadata": {
    "editable": true,
    "slideshow": {
     "slide_type": ""
    },
    "tags": []
   },
   "outputs": [
    {
     "data": {
      "text/plain": [
       "['.dataset\\\\BGT60TR13C_record_napaszhar20240605-140226\\\\RadarIfxAvian_00\\\\radar.npy',\n",
       " '.dataset\\\\BGT60TR13C_record_napaszhar_220240605-140404\\\\RadarIfxAvian_00\\\\radar.npy',\n",
       " '.dataset\\\\BGT60TR13C_record_nonapaszhar20240605-135608\\\\RadarIfxAvian_00\\\\radar.npy']"
      ]
     },
     "execution_count": 8,
     "metadata": {},
     "output_type": "execute_result"
    }
   ],
   "source": [
    "import glob\n",
    "\n",
    "data_glob = glob.glob(\".dataset/*/*/radar.npy\")\n",
    "data_glob"
   ]
  },
  {
   "cell_type": "code",
   "execution_count": 10,
   "id": "49690633-f12f-4c53-923f-0a97a02e17ab",
   "metadata": {},
   "outputs": [],
   "source": []
  },
  {
   "cell_type": "code",
   "execution_count": null,
   "id": "5b47a217-008d-4b63-b65b-541396e1facd",
   "metadata": {},
   "outputs": [],
   "source": []
  }
 ],
 "metadata": {
  "kernelspec": {
   "display_name": "Python 3 (ipykernel)",
   "language": "python",
   "name": "python3"
  },
  "language_info": {
   "codemirror_mode": {
    "name": "ipython",
    "version": 3
   },
   "file_extension": ".py",
   "mimetype": "text/x-python",
   "name": "python",
   "nbconvert_exporter": "python",
   "pygments_lexer": "ipython3",
   "version": "3.11.7"
  }
 },
 "nbformat": 4,
 "nbformat_minor": 5
}
